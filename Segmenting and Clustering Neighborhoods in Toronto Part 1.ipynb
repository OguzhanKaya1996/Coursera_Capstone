{
 "cells": [
  {
   "cell_type": "code",
   "execution_count": 1,
   "metadata": {},
   "outputs": [],
   "source": [
    "import requests\n",
    "import numpy as np\n",
    "from bs4 import BeautifulSoup\n",
    "import pandas as pd"
   ]
  },
  {
   "cell_type": "code",
   "execution_count": 2,
   "metadata": {},
   "outputs": [],
   "source": [
    "# get url and make soup object\n",
    "\n",
    "url = requests.get('https://en.wikipedia.org/wiki/List_of_postal_codes_of_Canada:_M').text\n",
    "soup = BeautifulSoup(url, 'lxml')\n",
    "\n",
    "#print(soup.prettify())"
   ]
  },
  {
   "cell_type": "code",
   "execution_count": 3,
   "metadata": {},
   "outputs": [],
   "source": [
    "# extract needed table \n",
    "My_table = soup.find('table',{'class':'wikitable sortable'})\n",
    "\n",
    "# My_table"
   ]
  },
  {
   "cell_type": "code",
   "execution_count": 4,
   "metadata": {},
   "outputs": [],
   "source": [
    "# extract table headers\n",
    "headers = []\n",
    "headers = [th.text.rstrip() for th in My_table.findAll('th')]\n",
    "\n",
    "# headers"
   ]
  },
  {
   "cell_type": "code",
   "execution_count": 5,
   "metadata": {},
   "outputs": [],
   "source": [
    "# extract all rows in one long list\n",
    "rows = []\n",
    "rows = [td.text.rstrip() for td in My_table.findAll('td')]\n",
    "\n",
    "# print(rows)"
   ]
  },
  {
   "cell_type": "code",
   "execution_count": 6,
   "metadata": {},
   "outputs": [],
   "source": [
    "# extract postalcode from rows\n",
    "postalcodes = []\n",
    "postalcodes = [rows[i] for i in np.arange(0, 540, 3).tolist()]\n",
    "\n",
    "# extract borough from rows\n",
    "boroughs = []\n",
    "boroughs = [rows[i] for i in np.arange(1, 540, 3).tolist()]\n",
    "\n",
    "# extract neighborhood from rows\n",
    "neighborhoods = []\n",
    "neighborhoods = [rows[i] for i in np.arange(2, 540, 3).tolist()]"
   ]
  },
  {
   "cell_type": "code",
   "execution_count": 7,
   "metadata": {},
   "outputs": [],
   "source": [
    "# convert to a Pandas dataframe\n",
    "df = pd.DataFrame({headers[0]:postalcodes, headers[1]:boroughs, headers[2]:neighborhoods })"
   ]
  },
  {
   "cell_type": "code",
   "execution_count": 8,
   "metadata": {},
   "outputs": [],
   "source": [
    "# remove non-assigned boroughs/neighborhoods\n",
    "index_of_not_assigned = df.index[df['Borough'] == 'Not assigned'].tolist()\n",
    "df.drop(index = index_of_not_assigned, axis=0, inplace = True)"
   ]
  },
  {
   "cell_type": "code",
   "execution_count": 9,
   "metadata": {},
   "outputs": [
    {
     "data": {
      "text/plain": [
       "(103, 3)"
      ]
     },
     "execution_count": 9,
     "metadata": {},
     "output_type": "execute_result"
    }
   ],
   "source": [
    "# print shape of the dataframe\n",
    "df.shape"
   ]
  }
 ],
 "metadata": {
  "kernelspec": {
   "display_name": "Python 3",
   "language": "python",
   "name": "python3"
  },
  "language_info": {
   "codemirror_mode": {
    "name": "ipython",
    "version": 3
   },
   "file_extension": ".py",
   "mimetype": "text/x-python",
   "name": "python",
   "nbconvert_exporter": "python",
   "pygments_lexer": "ipython3",
   "version": "3.6.5"
  }
 },
 "nbformat": 4,
 "nbformat_minor": 2
}
